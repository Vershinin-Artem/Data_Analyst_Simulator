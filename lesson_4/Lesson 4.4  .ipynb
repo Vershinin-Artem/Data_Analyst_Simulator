{
 "cells": [
  {
   "cell_type": "markdown",
   "id": "2b1aba51-af59-426f-aec2-863fb9de8908",
   "metadata": {},
   "source": [
    "# Задание 4\n",
    "Всё это время мы анализировали наши выборки целиком — и тех пользователей, на которых алгоритм повлиял, и тех, кого он не мог затронуть (меньше 30 просмотров). А что, если мы будем отбирать только нужных пользователей и скармливать t-тесту именно их? Да, выборка будет меньше, но мы избавимся от мусора — а значит, и чувствительность наверняка будет выше. В ответе укажите получившуюся мощность."
   ]
  },
  {
   "cell_type": "markdown",
   "id": "28dd6fa4-ec74-43f5-9d14-ef9aad68dccc",
   "metadata": {},
   "source": [
    "#### Выгрузим данные "
   ]
  },
  {
   "cell_type": "code",
   "execution_count": 33,
   "id": "de2f37b7-4a4d-47dd-ad1e-bbcd347a8f8b",
   "metadata": {},
   "outputs": [
    {
     "name": "stdout",
     "output_type": "stream",
     "text": [
      "Requirement already satisfied: pandahouse==0.2.0 in c:\\users\\versh\\anaconda3\\lib\\site-packages (0.2)\n",
      "Requirement already satisfied: pandas in c:\\users\\versh\\anaconda3\\lib\\site-packages (from pandahouse==0.2.0) (2.2.2)\n",
      "Requirement already satisfied: requests in c:\\users\\versh\\anaconda3\\lib\\site-packages (from pandahouse==0.2.0) (2.32.2)\n",
      "Requirement already satisfied: toolz in c:\\users\\versh\\anaconda3\\lib\\site-packages (from pandahouse==0.2.0) (0.12.0)\n",
      "Requirement already satisfied: numpy>=1.26.0 in c:\\users\\versh\\anaconda3\\lib\\site-packages (from pandas->pandahouse==0.2.0) (1.26.4)\n",
      "Requirement already satisfied: python-dateutil>=2.8.2 in c:\\users\\versh\\anaconda3\\lib\\site-packages (from pandas->pandahouse==0.2.0) (2.9.0.post0)\n",
      "Requirement already satisfied: pytz>=2020.1 in c:\\users\\versh\\anaconda3\\lib\\site-packages (from pandas->pandahouse==0.2.0) (2024.1)\n",
      "Requirement already satisfied: tzdata>=2022.7 in c:\\users\\versh\\anaconda3\\lib\\site-packages (from pandas->pandahouse==0.2.0) (2023.3)\n",
      "Requirement already satisfied: charset-normalizer<4,>=2 in c:\\users\\versh\\anaconda3\\lib\\site-packages (from requests->pandahouse==0.2.0) (2.0.4)\n",
      "Requirement already satisfied: idna<4,>=2.5 in c:\\users\\versh\\anaconda3\\lib\\site-packages (from requests->pandahouse==0.2.0) (3.7)\n",
      "Requirement already satisfied: urllib3<3,>=1.21.1 in c:\\users\\versh\\anaconda3\\lib\\site-packages (from requests->pandahouse==0.2.0) (2.2.2)\n",
      "Requirement already satisfied: certifi>=2017.4.17 in c:\\users\\versh\\anaconda3\\lib\\site-packages (from requests->pandahouse==0.2.0) (2024.8.30)\n",
      "Requirement already satisfied: six>=1.5 in c:\\users\\versh\\anaconda3\\lib\\site-packages (from python-dateutil>=2.8.2->pandas->pandahouse==0.2.0) (1.16.0)\n"
     ]
    }
   ],
   "source": [
    "!pip install pandahouse==0.2.0"
   ]
  },
  {
   "cell_type": "code",
   "execution_count": 43,
   "id": "ced1cf1e-8055-4bc7-8c0d-018bdabd493a",
   "metadata": {},
   "outputs": [
    {
     "name": "stdout",
     "output_type": "stream",
     "text": [
      "Requirement already satisfied: clickhouse-driver in c:\\users\\versh\\anaconda3\\lib\\site-packages (0.2.9)\n",
      "Requirement already satisfied: pytz in c:\\users\\versh\\anaconda3\\lib\\site-packages (from clickhouse-driver) (2024.1)\n",
      "Requirement already satisfied: tzlocal in c:\\users\\versh\\anaconda3\\lib\\site-packages (from clickhouse-driver) (5.3)\n",
      "Requirement already satisfied: tzdata in c:\\users\\versh\\anaconda3\\lib\\site-packages (from tzlocal->clickhouse-driver) (2023.3)\n"
     ]
    }
   ],
   "source": [
    "!pip install clickhouse-driver"
   ]
  },
  {
   "cell_type": "code",
   "execution_count": 5,
   "id": "5c17d03d-310f-4fd0-bd5d-508fa1580c6d",
   "metadata": {},
   "outputs": [
    {
     "name": "stdout",
     "output_type": "stream",
     "text": [
      "Requirement already satisfied: tqdm in c:\\users\\versh\\anaconda3\\lib\\site-packages (4.66.4)\n",
      "Requirement already satisfied: colorama in c:\\users\\versh\\anaconda3\\lib\\site-packages (from tqdm) (0.4.6)\n"
     ]
    }
   ],
   "source": [
    "!pip install tqdm"
   ]
  },
  {
   "cell_type": "code",
   "execution_count": 3,
   "id": "464492f8-2f43-43ca-9020-5ef5ac550ca1",
   "metadata": {},
   "outputs": [],
   "source": [
    "import pandas as pd\n",
    "import pandahouse as ph\n",
    "from scipy import stats\n",
    "from scipy.stats import shapiro\n",
    "from scipy.stats import mannwhitneyu\n",
    "from scipy.stats import norm\n",
    "from scipy.stats import ttest_ind\n",
    "import numpy as np\n",
    "from tqdm import tqdm\n",
    "\n"
   ]
  },
  {
   "cell_type": "code",
   "execution_count": 5,
   "id": "62b4d99b-a4b9-4f98-aa2d-c1e1712339e5",
   "metadata": {},
   "outputs": [],
   "source": [
    "connection = {'host': 'https://clickhouse.lab.karpov.courses',\n",
    "'database':'simulator_20250120',\n",
    "'user':'student',\n",
    "'password':'dpo_python_2020'}"
   ]
  },
  {
   "cell_type": "code",
   "execution_count": 7,
   "id": "8144af58-fd94-478c-879c-3728abc346d5",
   "metadata": {},
   "outputs": [],
   "source": [
    "q = \"\"\"\n",
    "select views, count() as users\n",
    "from (select user_id,\n",
    "             sum(action = 'view') as views\n",
    "from {db}.feed_actions \n",
    "where toDate(time) BETWEEN '2024-12-27' AND  '2025-01-02'\n",
    "\n",
    "   \n",
    "group by user_id\n",
    ")\n",
    "group by views\n",
    "order by views\n",
    "\"\"\""
   ]
  },
  {
   "cell_type": "code",
   "execution_count": 13,
   "id": "af65bc91-f2e2-423a-9e81-baf4a60ffd53",
   "metadata": {},
   "outputs": [
    {
     "data": {
      "text/html": [
       "<div>\n",
       "<style scoped>\n",
       "    .dataframe tbody tr th:only-of-type {\n",
       "        vertical-align: middle;\n",
       "    }\n",
       "\n",
       "    .dataframe tbody tr th {\n",
       "        vertical-align: top;\n",
       "    }\n",
       "\n",
       "    .dataframe thead th {\n",
       "        text-align: right;\n",
       "    }\n",
       "</style>\n",
       "<table border=\"1\" class=\"dataframe\">\n",
       "  <thead>\n",
       "    <tr style=\"text-align: right;\">\n",
       "      <th></th>\n",
       "      <th>views</th>\n",
       "      <th>users</th>\n",
       "      <th>p</th>\n",
       "    </tr>\n",
       "  </thead>\n",
       "  <tbody>\n",
       "    <tr>\n",
       "      <th>15</th>\n",
       "      <td>16</td>\n",
       "      <td>545</td>\n",
       "      <td>0.012977</td>\n",
       "    </tr>\n",
       "    <tr>\n",
       "      <th>14</th>\n",
       "      <td>15</td>\n",
       "      <td>537</td>\n",
       "      <td>0.012787</td>\n",
       "    </tr>\n",
       "    <tr>\n",
       "      <th>13</th>\n",
       "      <td>14</td>\n",
       "      <td>500</td>\n",
       "      <td>0.011906</td>\n",
       "    </tr>\n",
       "    <tr>\n",
       "      <th>34</th>\n",
       "      <td>35</td>\n",
       "      <td>485</td>\n",
       "      <td>0.011548</td>\n",
       "    </tr>\n",
       "    <tr>\n",
       "      <th>29</th>\n",
       "      <td>30</td>\n",
       "      <td>469</td>\n",
       "      <td>0.011167</td>\n",
       "    </tr>\n",
       "    <tr>\n",
       "      <th>...</th>\n",
       "      <td>...</td>\n",
       "      <td>...</td>\n",
       "      <td>...</td>\n",
       "    </tr>\n",
       "    <tr>\n",
       "      <th>280</th>\n",
       "      <td>287</td>\n",
       "      <td>1</td>\n",
       "      <td>0.000024</td>\n",
       "    </tr>\n",
       "    <tr>\n",
       "      <th>278</th>\n",
       "      <td>285</td>\n",
       "      <td>1</td>\n",
       "      <td>0.000024</td>\n",
       "    </tr>\n",
       "    <tr>\n",
       "      <th>276</th>\n",
       "      <td>280</td>\n",
       "      <td>1</td>\n",
       "      <td>0.000024</td>\n",
       "    </tr>\n",
       "    <tr>\n",
       "      <th>1</th>\n",
       "      <td>2</td>\n",
       "      <td>1</td>\n",
       "      <td>0.000024</td>\n",
       "    </tr>\n",
       "    <tr>\n",
       "      <th>300</th>\n",
       "      <td>370</td>\n",
       "      <td>1</td>\n",
       "      <td>0.000024</td>\n",
       "    </tr>\n",
       "  </tbody>\n",
       "</table>\n",
       "<p>301 rows × 3 columns</p>\n",
       "</div>"
      ],
      "text/plain": [
       "     views  users         p\n",
       "15      16    545  0.012977\n",
       "14      15    537  0.012787\n",
       "13      14    500  0.011906\n",
       "34      35    485  0.011548\n",
       "29      30    469  0.011167\n",
       "..     ...    ...       ...\n",
       "280    287      1  0.000024\n",
       "278    285      1  0.000024\n",
       "276    280      1  0.000024\n",
       "1        2      1  0.000024\n",
       "300    370      1  0.000024\n",
       "\n",
       "[301 rows x 3 columns]"
      ]
     },
     "execution_count": 13,
     "metadata": {},
     "output_type": "execute_result"
    }
   ],
   "source": [
    "views_distribution = ph.read_clickhouse(q, connection=connection)\n",
    "views_distribution['p'] = views_distribution['users']/views_distribution.users.sum()\n",
    "views_distribution.sort_values(by = 'p', ascending = False)"
   ]
  },
  {
   "cell_type": "code",
   "execution_count": 15,
   "id": "eda0cd9c-e7f3-4ac0-adbc-ea32dc039188",
   "metadata": {},
   "outputs": [],
   "source": [
    "views_distr = stats.rv_discrete(name='views_distr', \n",
    "                                values=(views_distribution['views'], \n",
    "                                        views_distribution['p']))"
   ]
  },
  {
   "cell_type": "code",
   "execution_count": 17,
   "id": "8d133a43-6775-42af-a51e-bd848332c29c",
   "metadata": {},
   "outputs": [],
   "source": [
    "q_1 = \"\"\"\n",
    "select \n",
    "   floor(ctr, 2) as ctr, count() as users\n",
    "from (select toDate(time) as dt, \n",
    "    user_id,\n",
    "    sum(action = 'like')/sum(action = 'view') as ctr\n",
    "from {db}.feed_actions\n",
    "where dt BETWEEN '2024-12-27' AND  '2025-01-02'\n",
    "\n",
    "group by dt, user_id\n",
    ")\n",
    "group by ctr\n",
    "\"\"\""
   ]
  },
  {
   "cell_type": "code",
   "execution_count": 19,
   "id": "e7f9e8ac-1d54-4812-9b4e-e2dd810594ff",
   "metadata": {},
   "outputs": [
    {
     "data": {
      "text/html": [
       "<div>\n",
       "<style scoped>\n",
       "    .dataframe tbody tr th:only-of-type {\n",
       "        vertical-align: middle;\n",
       "    }\n",
       "\n",
       "    .dataframe tbody tr th {\n",
       "        vertical-align: top;\n",
       "    }\n",
       "\n",
       "    .dataframe thead th {\n",
       "        text-align: right;\n",
       "    }\n",
       "</style>\n",
       "<table border=\"1\" class=\"dataframe\">\n",
       "  <thead>\n",
       "    <tr style=\"text-align: right;\">\n",
       "      <th></th>\n",
       "      <th>ctr</th>\n",
       "      <th>users</th>\n",
       "      <th>p</th>\n",
       "    </tr>\n",
       "  </thead>\n",
       "  <tbody>\n",
       "    <tr>\n",
       "      <th>17</th>\n",
       "      <td>0.20</td>\n",
       "      <td>4993</td>\n",
       "      <td>0.058658</td>\n",
       "    </tr>\n",
       "    <tr>\n",
       "      <th>33</th>\n",
       "      <td>0.16</td>\n",
       "      <td>4233</td>\n",
       "      <td>0.049729</td>\n",
       "    </tr>\n",
       "    <tr>\n",
       "      <th>50</th>\n",
       "      <td>0.25</td>\n",
       "      <td>4216</td>\n",
       "      <td>0.049529</td>\n",
       "    </tr>\n",
       "    <tr>\n",
       "      <th>6</th>\n",
       "      <td>0.18</td>\n",
       "      <td>4213</td>\n",
       "      <td>0.049494</td>\n",
       "    </tr>\n",
       "    <tr>\n",
       "      <th>72</th>\n",
       "      <td>0.21</td>\n",
       "      <td>3957</td>\n",
       "      <td>0.046487</td>\n",
       "    </tr>\n",
       "    <tr>\n",
       "      <th>...</th>\n",
       "      <td>...</td>\n",
       "      <td>...</td>\n",
       "      <td>...</td>\n",
       "    </tr>\n",
       "    <tr>\n",
       "      <th>11</th>\n",
       "      <td>0.81</td>\n",
       "      <td>2</td>\n",
       "      <td>0.000023</td>\n",
       "    </tr>\n",
       "    <tr>\n",
       "      <th>73</th>\n",
       "      <td>0.83</td>\n",
       "      <td>1</td>\n",
       "      <td>0.000012</td>\n",
       "    </tr>\n",
       "    <tr>\n",
       "      <th>51</th>\n",
       "      <td>1.00</td>\n",
       "      <td>1</td>\n",
       "      <td>0.000012</td>\n",
       "    </tr>\n",
       "    <tr>\n",
       "      <th>19</th>\n",
       "      <td>0.73</td>\n",
       "      <td>1</td>\n",
       "      <td>0.000012</td>\n",
       "    </tr>\n",
       "    <tr>\n",
       "      <th>39</th>\n",
       "      <td>0.88</td>\n",
       "      <td>1</td>\n",
       "      <td>0.000012</td>\n",
       "    </tr>\n",
       "  </tbody>\n",
       "</table>\n",
       "<p>80 rows × 3 columns</p>\n",
       "</div>"
      ],
      "text/plain": [
       "     ctr  users         p\n",
       "17  0.20   4993  0.058658\n",
       "33  0.16   4233  0.049729\n",
       "50  0.25   4216  0.049529\n",
       "6   0.18   4213  0.049494\n",
       "72  0.21   3957  0.046487\n",
       "..   ...    ...       ...\n",
       "11  0.81      2  0.000023\n",
       "73  0.83      1  0.000012\n",
       "51  1.00      1  0.000012\n",
       "19  0.73      1  0.000012\n",
       "39  0.88      1  0.000012\n",
       "\n",
       "[80 rows x 3 columns]"
      ]
     },
     "execution_count": 19,
     "metadata": {},
     "output_type": "execute_result"
    }
   ],
   "source": [
    "ctr_distribution = ph.read_clickhouse(q_1, connection=connection)\n",
    "ctr_distribution['p'] = ctr_distribution['users']/ctr_distribution.users.sum()\n",
    "ctr_distribution.sort_values(by = 'p', ascending = False)"
   ]
  },
  {
   "cell_type": "code",
   "execution_count": 21,
   "id": "2b841f0d-e3e2-4d1e-930a-f25a2a904d65",
   "metadata": {},
   "outputs": [],
   "source": [
    "views = views_distribution['views']"
   ]
  },
  {
   "cell_type": "code",
   "execution_count": 23,
   "id": "87ff923a-02d7-4701-856e-c09875fddef8",
   "metadata": {},
   "outputs": [],
   "source": [
    "views_prob = views_distribution['users'] / views_distribution['users'].sum()"
   ]
  },
  {
   "cell_type": "code",
   "execution_count": 25,
   "id": "c2988515-05a1-42e2-92e7-3ac0f79b086a",
   "metadata": {},
   "outputs": [],
   "source": [
    "ctrs = ctr_distribution['ctr']"
   ]
  },
  {
   "cell_type": "code",
   "execution_count": 27,
   "id": "adacfc22-0c4e-49b9-bdd6-f37a86614ba3",
   "metadata": {},
   "outputs": [],
   "source": [
    "ctrs_prob = ctr_distribution['users'] / ctr_distribution['users'].sum()"
   ]
  },
  {
   "cell_type": "code",
   "execution_count": 29,
   "id": "f8dc3744-a88d-4cdb-a6bc-43cf2ac0a34a",
   "metadata": {},
   "outputs": [],
   "source": [
    "rng = np.random.default_rng()"
   ]
  },
  {
   "cell_type": "code",
   "execution_count": 31,
   "id": "c9c0c689-3334-41a0-906b-08d018c0a3e9",
   "metadata": {},
   "outputs": [],
   "source": [
    "n_users = 30591"
   ]
  },
  {
   "cell_type": "code",
   "execution_count": 33,
   "id": "67c2f064-6ce4-4aac-9578-2aec6a7eceff",
   "metadata": {},
   "outputs": [
    {
     "name": "stderr",
     "output_type": "stream",
     "text": [
      "100%|████████████████████████████████████████████████████████████████████████████| 20000/20000 [09:10<00:00, 36.31it/s]"
     ]
    },
    {
     "name": "stdout",
     "output_type": "stream",
     "text": [
      "64.495\n"
     ]
    },
    {
     "name": "stderr",
     "output_type": "stream",
     "text": [
      "\n"
     ]
    }
   ],
   "source": [
    "pvalues = []\n",
    "for _ in tqdm(range(20000)):\n",
    "    group_A_views = rng.choice(views_distribution['views'], size=n_users, replace=True, p=views_distribution['p']).astype(np.int64)\n",
    "    group_B_views = rng.choice(views_distribution['views'], size=n_users, replace=True, p=views_distribution['p']).astype(np.int64)\n",
    "    group_B_views += ((1 + rng.binomial(n=1, p=0.5, size=n_users)) * rng.binomial(n=1, p=0.9, size=n_users) * (group_B_views >= 30))\n",
    "    group_A_ctrs = rng.choice(ctrs, size=n_users, replace=True, p=ctrs_prob)\n",
    "    group_B_ctrs = rng.choice(ctrs, size=n_users, replace=True, p=ctrs_prob)\n",
    "    mask_A = group_A_views >= 30\n",
    "    mask_B = group_B_views >= 30\n",
    "    group_A_likes = rng.binomial(n=group_A_views, p=group_A_ctrs)\n",
    "    group_B_likes = rng.binomial(n=group_B_views, p=group_B_ctrs)\n",
    "   \n",
    "\n",
    "    _, p_value = ttest_ind(group_A_likes[mask_A], group_B_likes[mask_B], equal_var=False)\n",
    "    pvalues.append(p_value)\n",
    "\n",
    "# Вычисление доли значимых различий\n",
    "alpha = 0.05\n",
    "print(np.mean(np.array(pvalues) < alpha) * 100)\n"
   ]
  },
  {
   "cell_type": "code",
   "execution_count": null,
   "id": "49df48f2-3bd4-4347-b8d0-ecb2056c11b5",
   "metadata": {},
   "outputs": [],
   "source": [
    "Ответ: 65.19"
   ]
  },
  {
   "cell_type": "code",
   "execution_count": null,
   "id": "16fb306a-5c4b-4f1a-8df6-5a0726658aaa",
   "metadata": {},
   "outputs": [],
   "source": []
  },
  {
   "cell_type": "code",
   "execution_count": null,
   "id": "f118e95b-5de7-4e34-bcea-42b6a64154fb",
   "metadata": {},
   "outputs": [],
   "source": []
  }
 ],
 "metadata": {
  "kernelspec": {
   "display_name": "Python (myenv)",
   "language": "python",
   "name": "myenv"
  },
  "language_info": {
   "codemirror_mode": {
    "name": "ipython",
    "version": 3
   },
   "file_extension": ".py",
   "mimetype": "text/x-python",
   "name": "python",
   "nbconvert_exporter": "python",
   "pygments_lexer": "ipython3",
   "version": "3.8.20"
  }
 },
 "nbformat": 4,
 "nbformat_minor": 5
}
